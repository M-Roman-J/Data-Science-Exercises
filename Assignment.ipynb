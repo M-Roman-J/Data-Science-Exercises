{
 "cells": [
  {
   "cell_type": "markdown",
   "metadata": {},
   "source": [
    "<center>\n",
    "    <img src=\"https://cf-courses-data.s3.us.cloud-object-storage.appdomain.cloud/IBMDeveloperSkillsNetwork-DS0105EN-SkillsNetwork/labs/Module2/images/SN_web_lightmode.png\" width=\"300\" alt=\"cognitiveclass.ai logo\">\n",
    "</center>\n"
   ]
  },
  {
   "cell_type": "markdown",
   "metadata": {},
   "source": [
    "#### Add your code below following the instructions given in the course\n"
   ]
  },
  {
   "cell_type": "markdown",
   "metadata": {},
   "source": [
    "## Assignment"
   ]
  },
  {
   "cell_type": "markdown",
   "metadata": {},
   "source": [
    "This tutorial shows how to use the different functions in Jupyter Notebook"
   ]
  },
  {
   "cell_type": "markdown",
   "metadata": {
    "tags": []
   },
   "source": [
    "Some of the popular data science languages are:\n",
    "- Python\n",
    "- R, SQL \n",
    "- Scala\n",
    "- Java\n",
    "- C++\n",
    "- Julia\n",
    "- JavaScript\n",
    "- PHP\n",
    "- Go\n",
    "- Ruby\n",
    "- Visual basic "
   ]
  },
  {
   "cell_type": "markdown",
   "metadata": {},
   "source": [
    "Some of the commonly used data science libraries are:\n",
    "- Pandas\n",
    "- Numpy\n",
    "- Matplotlib\n",
    "- Seaborn\n",
    "- Scikit-learn\n",
    "- Keras\n",
    "- TensorFlow\n",
    "- PyTorch\n",
    "- Apache Spark\n",
    "- Vegas\n",
    "- Big DL\n",
    "- Ggplot2"
   ]
  },
  {
   "cell_type": "markdown",
   "metadata": {
    "tags": []
   },
   "source": [
    "\n",
    "|Type of Source|Development Environments|Execution Environments|Fully Integrated Visual Tools|Data Management|Data Integration|Data Visualization|Model Deployment|Model Monitoring|Model Building|Fully Integrated Tool|\n",
    "|--------------|------------------------|----------------------|-----------------------------|---------------|----------------|------------------|----------------|----------------|--------------|--------------------|\n",
    "|Open Source   |Jupyter |Apache Spark          |KNIME    |MySQL          |Apache Airflow  |Pixie Dust |Apache PredictionIO|ModelDB|||\n",
    "|              |Jupyterlab |Apache Flink          |    |PostgreSQL     |KubeFlow        |Hue|Seldon|Prometheus|||\n",
    "|              |Jupyter Notebook |                      |         |MongoDB        |Apache Kafka    |Kibana|Kubernetes|IBM AI Fairness 360|||\n",
    "|              |Apache Zepplin |                      |            |Apache CouchDB |Apache Nifi     |Apache Superset|Redhat OpenShift|IBM Adeversarial Robustness 360|||\n",
    "|              |R Studio|                      |              |Apache Cassndra|Apache SparkSQL ||Mleap|IBM AI Explainability 360|||\n",
    "|              |Spyder |                      |              |Hadoop         |NodeRED         ||TensorFlow Service|||\n",
    "|              | |                      |                 |Ceph           |||TensorFlow lite|||\n",
    "|              ||                      |                |Elastic Search |||TensorFlow.JS|||\n",
    "|Commercial    |                        |                      |                            |Oracle Database  |Informatica PowerCenter|            |               |     |SPSS Modeler|Watson Studio|\n",
    "|||||Oracle Database|IBM infoSphere DataStage||||SAS Enterprise Miner||Watson Open Scale|\n",
    "|||||Oracle Database|Microsoft SQL Server|||||\n",
    "|||||Oracle Database|IBM DB2|||||\n",
    "|Cloud-Based|||||Informatica Cloud Data Inegration|Datameer||Amazon SageMaker|Watson Machine Learning|Watson Studio|\n",
    "||||||IBM Data Refinery|IBM Congo Business||||Watson Open Scale|"
   ]
  },
  {
   "cell_type": "markdown",
   "metadata": {},
   "source": [
    "### Examples of Arithmetic operations will be shown below "
   ]
  },
  {
   "cell_type": "code",
   "execution_count": null,
   "metadata": {},
   "outputs": [],
   "source": [
    "# The following is a code to multiply and add numbers\n",
    "(6+7)*9"
   ]
  },
  {
   "cell_type": "code",
   "execution_count": null,
   "metadata": {
    "tags": []
   },
   "outputs": [
    {
     "name": "stdout",
     "output_type": "stream",
     "text": [
      "enter number of minutes?\n",
      " 677\n"
     ]
    },
    {
     "name": "stdout",
     "output_type": "stream",
     "text": [
      "11.283333333333333\n"
     ]
    }
   ],
   "source": [
    "Minutes = 78\n",
    "Hours = (Minutes/60)\n",
    "print(Hours)"
   ]
  },
  {
   "cell_type": "markdown",
   "metadata": {},
   "source": [
    "## Learning Objectives of the Assignment is:\n",
    "- Create a Jupyter Notebook with markdown and code cells\n",
    "- List examples of languages, libraries and tools used in Data Science\n",
    "- Share your Jupyter Notebook publicly on GitHub\n",
    "- Evaluate notebooks submitted by your peers using the provided rubric\n",
    "- Demonstrate proficiency in Data Science toolkit knowledge"
   ]
  },
  {
   "cell_type": "markdown",
   "metadata": {},
   "source": [
    "## Author\n",
    "Moyou Jermalili Roman Jermalili"
   ]
  }
 ],
 "metadata": {
  "kernelspec": {
   "display_name": "Python",
   "language": "python",
   "name": "conda-env-python-py"
  },
  "language_info": {
   "codemirror_mode": {
    "name": "ipython",
    "version": 3
   },
   "file_extension": ".py",
   "mimetype": "text/x-python",
   "name": "python",
   "nbconvert_exporter": "python",
   "pygments_lexer": "ipython3",
   "version": "3.7.12"
  }
 },
 "nbformat": 4,
 "nbformat_minor": 4
}
